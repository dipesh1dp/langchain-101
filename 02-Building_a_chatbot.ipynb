{
 "cells": [
  {
   "cell_type": "code",
   "execution_count": null,
   "id": "2a37160f-39e4-4cf3-bf48-40dec005789e",
   "metadata": {},
   "outputs": [],
   "source": []
  }
 ],
 "metadata": {
  "kernelspec": {
   "display_name": "",
   "name": ""
  },
  "language_info": {
   "name": ""
  }
 },
 "nbformat": 4,
 "nbformat_minor": 5
}
