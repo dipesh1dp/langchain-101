{
 "cells": [
  {
   "cell_type": "markdown",
   "id": "673b4ec0-df12-41d6-b39f-28ea7846b6ba",
   "metadata": {},
   "source": [
    "# RAG PDF Chatbot"
   ]
  },
  {
   "cell_type": "markdown",
   "id": "3286602f-767c-49fd-a0ab-30cd3ed06e33",
   "metadata": {},
   "source": [
    "A multi-turn conversational AI backend powered by Retrieval-Augmented Generation (RAG). Users can upload PDF documents and interact with them through chat.\n"
   ]
  },
  {
   "cell_type": "markdown",
   "id": "a988464e-c50e-4ae7-b6fe-6f1b6500be3e",
   "metadata": {},
   "source": [
    "## 0. Setup "
   ]
  },
  {
   "cell_type": "markdown",
   "id": "b4090a2a-3d66-42c3-8f39-c1f8fdc2d8b1",
   "metadata": {},
   "source": [
    "###  LangSmith Tracing\n",
    "After signing up at LangSmith, make sure to set your environment variable to start logging traces:\n",
    "```\n",
    "export LANGSMITH_TRACING=\"true\"\n",
    "export LANGSMITH_API_KEY=\"...\"\n",
    "```\n",
    "or, you can set them manually in a notebook\n"
   ]
  },
  {
   "cell_type": "code",
   "execution_count": 1,
   "id": "3591e16f-c540-4733-b244-cc99f6cba913",
   "metadata": {},
   "outputs": [
    {
     "name": "stdin",
     "output_type": "stream",
     "text": [
      " ········\n"
     ]
    }
   ],
   "source": [
    "import getpass \n",
    "import os\n",
    "\n",
    "os.environ[\"LANGSMITH_TRACING\"] = \"true\" \n",
    "os.environ[\"LANGSMITH_API_KEY\"] = getpass.getpass()"
   ]
  },
  {
   "cell_type": "markdown",
   "id": "b5d5e704-d9c3-4680-bf43-a8d42a3b00ec",
   "metadata": {},
   "source": [
    "### Get `.env` variable for LLM API Key\n"
   ]
  },
  {
   "cell_type": "code",
   "execution_count": 2,
   "id": "6e3c05f4-553f-4397-ac8c-17b07a0c7d8e",
   "metadata": {},
   "outputs": [],
   "source": [
    "from dotenv import load_dotenv\n",
    "\n",
    "load_dotenv() \n",
    "\n",
    "gemini_api_key = os.getenv(\"GEMINI_API_KEY\")\n",
    "\n",
    "if gemini_api_key is None:\n",
    "    raise ValueError(\"GEMINI_API_KEY not found. Please set it up in the .env file\")"
   ]
  },
  {
   "cell_type": "markdown",
   "id": "b20d1fb7-de7e-4186-8b0c-8a47f6da2a41",
   "metadata": {},
   "source": [
    "### Initialize the model"
   ]
  },
  {
   "cell_type": "code",
   "execution_count": 3,
   "id": "1e340d0e-5d9f-4f12-b5d0-3428b6ee4830",
   "metadata": {},
   "outputs": [],
   "source": [
    "from langchain_google_genai import ChatGoogleGenerativeAI \n",
    "\n",
    "model = ChatGoogleGenerativeAI(\n",
    "    model = \"gemini-2.5-flash\", \n",
    "    temperature = 0, \n",
    "    api_key = gemini_api_key\n",
    ")"
   ]
  },
  {
   "cell_type": "markdown",
   "id": "c6e3a8a9-eea9-4b65-9c85-60ced13bd70c",
   "metadata": {},
   "source": [
    "## 1. Indexing "
   ]
  },
  {
   "cell_type": "markdown",
   "id": "bdcd2ebb-a35d-4afd-b701-b5f8abcaa9b0",
   "metadata": {},
   "source": [
    "### Select embeddings model "
   ]
  },
  {
   "cell_type": "markdown",
   "id": "a1cdbd3d-75c8-4c85-a169-65ed5bd0d264",
   "metadata": {},
   "source": [
    "I've chosen HuggingFace sentence-transformers `all-mpnet-base-v2` embedding, you can choose others like Gemini, OpenAI, MistralAI, etc."
   ]
  },
  {
   "cell_type": "code",
   "execution_count": 4,
   "id": "31ba35b6-15b7-43d1-9ed0-c7dc6811d8b1",
   "metadata": {},
   "outputs": [],
   "source": [
    "from langchain_huggingface import HuggingFaceEmbeddings \n",
    "\n",
    "embeddings = HuggingFaceEmbeddings(model_name=\"sentence-transformers/all-mpnet-base-v2\")"
   ]
  },
  {
   "cell_type": "markdown",
   "id": "a16da5e8-b800-46c3-b2a9-82f5361578b9",
   "metadata": {},
   "source": [
    "If GoogleGenerativeAIEmbeddings is used: \n",
    "\n",
    "```python\n",
    "os.environ[\"GOOGLE_APPLICATION_CREDENTIALS\"] = \"service_account.json\"\n",
    "\n",
    "import json\n",
    "import os\n",
    "\n",
    "# Load the project ID dynamically from the credentials file\n",
    "with open(os.environ[\"GOOGLE_APPLICATION_CREDENTIALS\"], \"r\") as f:\n",
    "    credentials = json.load(f)\n",
    "    project_id = credentials[\"project_id\"]\n",
    "\n",
    "# Now use it when initializing the embeddings\n",
    "from langchain_google_genai import GoogleGenerativeAIEmbeddings\n",
    "\n",
    "embeddings = GoogleGenerativeAIEmbeddings(\n",
    "    model=\"models/embedding-001\",\n",
    "    project=project_id\n",
    ")\n",
    "```"
   ]
  },
  {
   "cell_type": "markdown",
   "id": "eaf5cf02-7c35-4310-9eb8-37f82a35d68e",
   "metadata": {},
   "source": [
    "### Loading documents"
   ]
  },
  {
   "cell_type": "code",
   "execution_count": 5,
   "id": "3b09a81f-1675-4bf4-a112-d4ecb575977e",
   "metadata": {},
   "outputs": [
    {
     "name": "stderr",
     "output_type": "stream",
     "text": [
      "<>:37: SyntaxWarning: invalid escape sequence '\\A'\n",
      "<>:37: SyntaxWarning: invalid escape sequence '\\A'\n",
      "C:\\Users\\Dipesh\\AppData\\Local\\Temp\\ipykernel_16744\\625410551.py:37: SyntaxWarning: invalid escape sequence '\\A'\n",
      "  docs = load_pdf(\"D:\\AML-CFT.pdf\")\n"
     ]
    }
   ],
   "source": [
    "import os \n",
    "from langchain.document_loaders import PyPDFLoader \n",
    "from PyPDF2 import PdfReader \n",
    "import pytesseract \n",
    "from pdf2image import convert_from_path \n",
    "from langchain.schema import Document \n",
    "\n",
    "def load_pdf(file_path): \n",
    "    \"\"\"Load a PDF with OCR fallback for scanned PDFs\"\"\"\n",
    "    documents = [] \n",
    "\n",
    "    try: \n",
    "        # Try normal text extraction \n",
    "        loader = PyPDFLoader(file_path) \n",
    "        documents = loader.load() \n",
    "\n",
    "        # Check if extraction was empty (possibility of scanned PDF) \n",
    "        if all(len(doc.page_content.strip()) == 0 for doc in documents): \n",
    "            raise ValueError(\"No text found, using OCR fallback.\") \n",
    "\n",
    "    except Exception: \n",
    "        # OCR fallback \n",
    "        print(f\"[OCR] Processing scanned PDF\") \n",
    "        images = convert_from_path(file_path) \n",
    "        text_pages = [] \n",
    "        for img in images: \n",
    "            text = pytesseract.image_to_string(img) \n",
    "            text_pages.append(text) \n",
    "\n",
    "        documents = [\n",
    "            Document(page_content=page_text, metadata={\"source\": file_path, \"page\": i+1})\n",
    "            for i, page_text in enumerate(text_pages)\n",
    "        ]\n",
    "\n",
    "    return documents \n",
    "\n",
    "docs = load_pdf(\"D:\\AML-CFT.pdf\")\n",
    "    "
   ]
  },
  {
   "cell_type": "markdown",
   "id": "8258a00d-14cb-4fca-af04-e14504225146",
   "metadata": {},
   "source": [
    "### Select vector store"
   ]
  },
  {
   "cell_type": "markdown",
   "id": "4dd6a37d-cf25-446a-bbca-4954af36572e",
   "metadata": {},
   "source": [
    "I am using FAISS but you can choose others such as Pinecone, Qdrant"
   ]
  },
  {
   "cell_type": "code",
   "execution_count": 6,
   "id": "c5e53df7-1892-4ef9-9207-230bf1d4ce5c",
   "metadata": {},
   "outputs": [],
   "source": [
    "import faiss \n",
    "from langchain_community.docstore.in_memory import InMemoryDocstore \n",
    "from langchain_community.vectorstores import FAISS \n",
    "\n",
    "embedding_dim = len(embeddings.embed_query(\"Hello world\")) \n",
    "index =  faiss.IndexFlatL2(embedding_dim) \n",
    "\n",
    "vector_store = FAISS(\n",
    "    embedding_function=embeddings, \n",
    "    index=index, \n",
    "    docstore=InMemoryDocstore(), \n",
    "    index_to_docstore_id={}\n",
    ")"
   ]
  },
  {
   "cell_type": "markdown",
   "id": "27de101e-bb96-4c79-a5a3-8e20ac6edf73",
   "metadata": {},
   "source": [
    "### Splitting documents"
   ]
  },
  {
   "cell_type": "code",
   "execution_count": 7,
   "id": "35bab23a-8d40-441e-be3d-e27d13dbd15e",
   "metadata": {},
   "outputs": [
    {
     "name": "stdout",
     "output_type": "stream",
     "text": [
      "Split document into 39 sub-documents.\n"
     ]
    }
   ],
   "source": [
    "from langchain_text_splitters import RecursiveCharacterTextSplitter\n",
    "\n",
    "# Split into chunks \n",
    "text_splitter = RecursiveCharacterTextSplitter(chunk_size=1000, \n",
    "                                               chunk_overlap=200, \n",
    "                                              add_start_index=True) \n",
    "all_splits = text_splitter.split_documents(docs)\n",
    "print(f\"Split document into {len(all_splits)} sub-documents.\") \n"
   ]
  },
  {
   "cell_type": "markdown",
   "id": "594c5d37-5973-4ef9-b3ac-786b8c8b4cf9",
   "metadata": {},
   "source": [
    "### Storing Documents"
   ]
  },
  {
   "cell_type": "code",
   "execution_count": 8,
   "id": "73f58c50-87c3-4a54-a294-84d8b6f46223",
   "metadata": {},
   "outputs": [
    {
     "name": "stdout",
     "output_type": "stream",
     "text": [
      "['fb6d8f02-0ace-413d-aab6-2dbcc1a37318', '8a44d369-a42b-4197-874a-652d3ab2bc66', '11eac783-814c-4dca-93d6-a7531e5dc847']\n"
     ]
    }
   ],
   "source": [
    "# Add to existing vector store \n",
    "document_ids = vector_store.add_documents(documents=all_splits) \n",
    "print(document_ids[:3])"
   ]
  },
  {
   "cell_type": "markdown",
   "id": "7e49efad-ec86-4e2e-8404-fc749bad1e27",
   "metadata": {},
   "source": [
    "## 2. Retrieval and Generation"
   ]
  },
  {
   "cell_type": "code",
   "execution_count": 9,
   "id": "a238e479-e681-4af9-beb4-23a4361e9af5",
   "metadata": {},
   "outputs": [
    {
     "name": "stdout",
     "output_type": "stream",
     "text": [
      "You are an assistant for question-answering tasks. Use the following pieces of retrieved context to answer the question. If you don't know the answer, just say that you don't know. Use three sentences maximum and keep the answer concise.\n",
      "Question: (question goes here) \n",
      "Context: (content goes here) \n",
      "Answer:\n"
     ]
    }
   ],
   "source": [
    "from langchain import hub    \n",
    "\n",
    "# Prompt for Question Answering \n",
    "prompt = hub.pull(\"rlm/rag-prompt\") \n",
    "\n",
    "example_message = prompt.invoke(\n",
    "    {\"context\": \"(content goes here)\", \"question\": \"(question goes here)\"}\n",
    ").to_messages()\n",
    "\n",
    "assert len(example_message) == 1\n",
    "print(example_message[0].content)"
   ]
  },
  {
   "cell_type": "markdown",
   "id": "e92548c0-2532-4506-a0ad-1980c69afad1",
   "metadata": {},
   "source": [
    "- `hub` is LangChain’s “prompt repository” client — it can fetch ready-made, community-shared prompt templates (like GitHub but for prompts).\n",
    "- The hub has prompts for tasks like RAG, summarization, translation, etc.\n",
    "- This avoids rewriting the same boilerplate instructions for the LLM."
   ]
  },
  {
   "cell_type": "code",
   "execution_count": 10,
   "id": "2ef00f6f-f0fe-474c-9f45-afc9e7ea1b73",
   "metadata": {},
   "outputs": [],
   "source": [
    "from langchain_core.documents import Document\n",
    "from typing_extensions import List, TypedDict \n",
    "\n",
    "class State(TypedDict): \n",
    "    question: str \n",
    "    context: List[Document] \n",
    "    answer: str \n"
   ]
  },
  {
   "cell_type": "markdown",
   "id": "02f194da-92f9-4c4e-ae25-5a66aee18b43",
   "metadata": {},
   "source": [
    "### Nodes"
   ]
  },
  {
   "cell_type": "code",
   "execution_count": 11,
   "id": "535ac7b4-776d-457e-925b-bb1e9f654d22",
   "metadata": {},
   "outputs": [],
   "source": [
    "def retrieve(state: State): \n",
    "    retrieved_docs = vector_store.similarity_search(state[\"question\"]) \n",
    "    return {\"context\": retrieved_docs} \n",
    "\n",
    "def generate(state: State): \n",
    "    docs_content = \"n\\n\".join(doc.page_content for doc in state[\"context\"]) \n",
    "    messages = prompt.invoke({\"question\": state[\"question\"], \"context\": docs_content}) \n",
    "    response = model.invoke(messages)\n",
    "    return {\"answer\": response.content}"
   ]
  },
  {
   "cell_type": "markdown",
   "id": "3a73ce2f-4449-441c-9abc-d995c2780b05",
   "metadata": {},
   "source": [
    "### Graph"
   ]
  },
  {
   "cell_type": "code",
   "execution_count": 12,
   "id": "5637a2a6-4452-46ae-9823-bd9a3262490f",
   "metadata": {},
   "outputs": [
    {
     "data": {
      "image/png": "[encoded data removed]",
      "text/plain": [
       "<IPython.core.display.Image object>"
      ]
     },
     "metadata": {},
     "output_type": "display_data"
    }
   ],
   "source": [
    "from langgraph.graph import START, StateGraph \n",
    "from IPython.display import Image, display\n",
    "\n",
    "graph_builder = StateGraph(State).add_sequence([retrieve, generate]) \n",
    "graph_builder.add_edge(START, \"retrieve\") \n",
    "graph = graph_builder.compile()\n",
    "\n",
    "display(Image(graph.get_graph().draw_mermaid_png()))"
   ]
  },
  {
   "cell_type": "markdown",
   "id": "13eab68a-c637-4862-b469-5b7507c02f18",
   "metadata": {},
   "source": [
    "## Invoke"
   ]
  },
  {
   "cell_type": "code",
   "execution_count": 13,
   "id": "2e5a13a6-e906-449b-ba49-adca710390f2",
   "metadata": {},
   "outputs": [],
   "source": [
    "result = graph.invoke({\"question\": \"What is money laundering\"})"
   ]
  },
  {
   "cell_type": "code",
   "execution_count": 26,
   "id": "27774f2a-226d-4737-837a-ca7ec96aca20",
   "metadata": {},
   "outputs": [
    {
     "name": "stdout",
     "output_type": "stream",
     "text": [
      "Context: [Document(metadata={'source': 'D:\\\\AML-CFT.pdf', 'page': 0, 'start_index': 0}, page_content='FREQUENTLY ASKED QUESTIONS On AML/CFT \\n1. What is Money Laundering? \\nMoney Laundering is the process by which illegal funds and assets are converted into legitimate \\nfunds and assets. \\n2. What is the current scale of Money Laundering worldwide? \\nMeasuring the current scale of money laundering is extremely difficult. The World Bank and IMF have \\nestimated volume of money laundering to between 3 and 5 percent of global gross domestic product \\n(GDP) equivalent to approximately US$2.2 trillion to US$3.7 trillion annually. \\n3. How does money laundering work? \\nMoney laundering works in following three stages. \\n1. Placement: Illegal funds or assets are first brought into the financial system. This \\nplacement makes the funds more liquid. Money launderers place illegal  funds using a \\nvariety of techniques like, depositing cash into bank accounts or purchasing insurance \\nproducts and using cash to purchase assets.'), Document(metadata={'source': 'D:\\\\AML-CFT.pdf', 'page': 0, 'start_index': 787}, page_content='variety of techniques like, depositing cash into bank accounts or purchasing insurance \\nproducts and using cash to purchase assets. \\n2. Layering: To conceal the illegal origin of the placed funds and thus make them more \\nuseful, the funds have to be moved, dispersed and disguised. This activity is known as \\n“layering”. At this stage, money launderers use many different techniques to layer the \\nfunds like, using multiple banks and accounts, having professionals act as intermediaries \\nand transacting through corporations and trusts. This helps the launderers to disguise the \\norigin of the funds. \\n3. Integration: The last stage of the money laundering process is called “integration”. The \\n“cleaned” funds can now be made available for investment in legitimate or  illegitimate \\nbusinesses. Thus, the original “dirty” money has achieved the appearance of legitimacy.'), Document(metadata={'source': 'D:\\\\AML-CFT.pdf', 'page': 1, 'start_index': 0}, page_content='4. What is Anti Money laundering (AML)?  \\nAnti Money Laundering  (AML) refers to a set of procedures, laws and regulations designed to stop the \\npractice of generating income through illegal actions. \\n5. What is Terrorist Financing? \\nTerrorism financing refers to activities that provide financing  or financial support to individual  terrorists \\nor terrorist groups. \\n6. What is Combating Financing of Terrorism (CFT)? \\nCombating the Financing of Terrorism (CFT) involves investigating, analyzing, deterring, and preventing \\nsources of funding for activities intended to achieve political, religious, or ideological goals through \\nviolence and the threat of violence against civilians. \\n7. What is the difference between Money Laundering and Terrorist Financing? \\nMoney Laundering involves the disguising of fund derived from illegal activity so they may be used \\nwithout detection of the illegal activity  whereas terrorist financing involves the use of legall y derived'), Document(metadata={'source': 'D:\\\\AML-CFT.pdf', 'page': 10, 'start_index': 813}, page_content='o Human trafficking \\no Organized crime \\no Counterfeiting \\n\\uf0b7 Customer or transactions related with a jurisdiction largely deficient for the control of above \\nlisted types of crimes in general or are under a kind of international monitoring \\n\\uf0b7 Non face-to-face Customers or Business Transactions, particularly, \\no Cross border correspondent banking \\no Wire transfers \\no Business relation through Internet, Telephone, Fax, Postal service etc. \\no Internet Banking, ATM Transaction, Mobile Banking \\no Transaction through instruction / request by Fax/wire \\no Transaction through Wire or prepaid card, etc. \\n\\uf0b7 Politically exposed  persons (PEPs) both domestic and foreign PEPs their family member and \\nperson associated with them. \\n\\uf0b7 Antique dealers (individuals and entities), Money service bureaus, Dealers in arms, Casinos, \\nBullion dealers including sub dealers &jewelers. \\n\\uf0b7 Business of precious herbs and medicines.')]\n",
      "\n",
      "Answer: Money laundering is the process by which illegal funds and assets are converted into legitimate funds and assets. This process typically involves three stages: placement, layering, and integration. The goal is to disguise the illicit origin of the funds, making them appear to be from a legal source.\n"
     ]
    }
   ],
   "source": [
    "print(f\"Context: {result[\"context\"]}\\n\")\n",
    "print(f\"Answer: {result[\"answer\"]}\")"
   ]
  },
  {
   "cell_type": "markdown",
   "id": "6f8e378f-d85d-491f-98d3-d3afe01c62df",
   "metadata": {},
   "source": [
    "## Query Analysis"
   ]
  },
  {
   "cell_type": "code",
   "execution_count": null,
   "id": "e2de0cbd-daca-4955-96c8-8b372d089511",
   "metadata": {},
   "outputs": [],
   "source": []
  }
 ],
 "metadata": {
  "kernelspec": {
   "display_name": "My Virtual Env",
   "language": "python",
   "name": "lchain"
  },
  "language_info": {
   "codemirror_mode": {
    "name": "ipython",
    "version": 3
   },
   "file_extension": ".py",
   "mimetype": "text/x-python",
   "name": "python",
   "nbconvert_exporter": "python",
   "pygments_lexer": "ipython3",
   "version": "3.12.11"
  }
 },
 "nbformat": 4,
 "nbformat_minor": 5
}
