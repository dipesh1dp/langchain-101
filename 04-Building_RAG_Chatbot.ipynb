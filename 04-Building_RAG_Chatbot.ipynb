{
 "cells": [
  {
   "cell_type": "markdown",
   "id": "673b4ec0-df12-41d6-b39f-28ea7846b6ba",
   "metadata": {},
   "source": [
    "# RAG PDF Chatbot"
   ]
  },
  {
   "cell_type": "markdown",
   "id": "3286602f-767c-49fd-a0ab-30cd3ed06e33",
   "metadata": {},
   "source": [
    "A multi-turn conversational AI backend powered by Retrieval-Augmented Generation (RAG). Users can upload PDF documents and interact with them through chat.\n"
   ]
  },
  {
   "cell_type": "markdown",
   "id": "a988464e-c50e-4ae7-b6fe-6f1b6500be3e",
   "metadata": {},
   "source": [
    "## Setup "
   ]
  },
  {
   "cell_type": "markdown",
   "id": "b4090a2a-3d66-42c3-8f39-c1f8fdc2d8b1",
   "metadata": {},
   "source": [
    "###  LangSmith Tracing\n",
    "After signing up at LangSmith, make sure to set your environment variable to start logging traces:\n",
    "```\n",
    "export LANGSMITH_TRACING=\"true\"\n",
    "export LANGSMITH_API_KEY=\"...\"\n",
    "```\n",
    "or, you can set them manually in a notebook\n"
   ]
  },
  {
   "cell_type": "code",
   "execution_count": 1,
   "id": "3591e16f-c540-4733-b244-cc99f6cba913",
   "metadata": {},
   "outputs": [
    {
     "name": "stdin",
     "output_type": "stream",
     "text": [
      " ········\n"
     ]
    }
   ],
   "source": [
    "import getpass \n",
    "import os\n",
    "\n",
    "os.environ[\"LANGSMITH_TRACING\"] = \"true\" \n",
    "os.environ[\"LANGSMITH_API_KEY\"] = getpass.getpass()"
   ]
  },
  {
   "cell_type": "markdown",
   "id": "b5d5e704-d9c3-4680-bf43-a8d42a3b00ec",
   "metadata": {},
   "source": [
    "### Get `.env` variable for LLM API Key\n"
   ]
  },
  {
   "cell_type": "code",
   "execution_count": 2,
   "id": "6e3c05f4-553f-4397-ac8c-17b07a0c7d8e",
   "metadata": {},
   "outputs": [],
   "source": [
    "from dotenv import load_dotenv\n",
    "\n",
    "load_dotenv() \n",
    "\n",
    "gemini_api_key = os.getenv(\"GEMINI_API_KEY\")\n",
    "\n",
    "if gemini_api_key is None:\n",
    "    raise ValueError(\"GEMINI_API_KEY not found. Please set it up in the .env file\")"
   ]
  },
  {
   "cell_type": "markdown",
   "id": "b20d1fb7-de7e-4186-8b0c-8a47f6da2a41",
   "metadata": {},
   "source": [
    "### Initialize the model"
   ]
  },
  {
   "cell_type": "code",
   "execution_count": 3,
   "id": "1e340d0e-5d9f-4f12-b5d0-3428b6ee4830",
   "metadata": {},
   "outputs": [],
   "source": [
    "from langchain_google_genai import ChatGoogleGenerativeAI \n",
    "\n",
    "model = ChatGoogleGenerativeAI(\n",
    "    model = \"gemin-2.5-flash\", \n",
    "    temperature = 0, \n",
    "    api_key = gemini_api_key\n",
    ")"
   ]
  },
  {
   "cell_type": "markdown",
   "id": "08196d65-3ce2-44a6-bb36-65f734a21c86",
   "metadata": {},
   "source": [
    "### Select embeddings model "
   ]
  },
  {
   "cell_type": "markdown",
   "id": "23779a30-4f30-41ea-b155-797e1012ff74",
   "metadata": {},
   "source": [
    "I've chosen Gemini embedding, you can choose others like OpenAI, MistralAI or Hugging Face sentnce-transformer models."
   ]
  },
  {
   "cell_type": "code",
   "execution_count": 4,
   "id": "1bd8c5de-7231-4b32-8b6b-57c7bd41164c",
   "metadata": {},
   "outputs": [],
   "source": [
    "os.environ[\"GOOGLE_APPLICATION_CREDENTIALS\"] = \"service_account.json\""
   ]
  },
  {
   "cell_type": "code",
   "execution_count": 6,
   "id": "5382f890-4c9a-4535-8d19-71c2592f4f05",
   "metadata": {},
   "outputs": [],
   "source": [
    "import json\n",
    "import os\n",
    "\n",
    "# Load the project ID dynamically from the credentials file\n",
    "with open(os.environ[\"GOOGLE_APPLICATION_CREDENTIALS\"], \"r\") as f:\n",
    "    credentials = json.load(f)\n",
    "    project_id = credentials[\"project_id\"]\n",
    "\n",
    "# Now use it when initializing the embeddings\n",
    "from langchain_google_genai import GoogleGenerativeAIEmbeddings\n",
    "\n",
    "embeddings = GoogleGenerativeAIEmbeddings(\n",
    "    model=\"models/embedding-001\",\n",
    "    project=project_id\n",
    ")"
   ]
  },
  {
   "cell_type": "markdown",
   "id": "8258a00d-14cb-4fca-af04-e14504225146",
   "metadata": {},
   "source": [
    "### Select vector store"
   ]
  },
  {
   "cell_type": "markdown",
   "id": "4dd6a37d-cf25-446a-bbca-4954af36572e",
   "metadata": {},
   "source": [
    "I am using FAISS but you can choose others such as Pinecone, Qdrant"
   ]
  },
  {
   "cell_type": "code",
   "execution_count": 13,
   "id": "c5e53df7-1892-4ef9-9207-230bf1d4ce5c",
   "metadata": {},
   "outputs": [],
   "source": [
    "import faiss \n",
    "from langchain_community.docstore.in_memory import InMemoryDocstore \n",
    "from langchain_community.vectorstores import FAISS \n",
    "\n",
    "embedding_dim = len(embeddings.embed_query(\"hello world\")) \n",
    "index = faiss.IndexFlatL2(embedding_dim) \n",
    "\n",
    "vector_store = FAISS(embedding_function=embeddings, \n",
    "                    index=index, \n",
    "                    docstore=InMemoryDocstore(), \n",
    "                    index_to_docstore_id={}, \n",
    "                    )"
   ]
  },
  {
   "cell_type": "code",
   "execution_count": null,
   "id": "3b09a81f-1675-4bf4-a112-d4ecb575977e",
   "metadata": {},
   "outputs": [],
   "source": []
  },
  {
   "cell_type": "code",
   "execution_count": null,
   "id": "35bab23a-8d40-441e-be3d-e27d13dbd15e",
   "metadata": {},
   "outputs": [],
   "source": []
  }
 ],
 "metadata": {
  "kernelspec": {
   "display_name": "Python (myenv)",
   "language": "python",
   "name": "myenv"
  },
  "language_info": {
   "codemirror_mode": {
    "name": "ipython",
    "version": 3
   },
   "file_extension": ".py",
   "mimetype": "text/x-python",
   "name": "python",
   "nbconvert_exporter": "python",
   "pygments_lexer": "ipython3",
   "version": "3.13.5"
  }
 },
 "nbformat": 4,
 "nbformat_minor": 5
}
